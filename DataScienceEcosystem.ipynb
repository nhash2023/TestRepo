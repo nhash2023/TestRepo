{
 "cells": [
  {
   "cell_type": "markdown",
   "id": "36dfd5e6-084c-4d0e-8cfc-75d80b8080c1",
   "metadata": {},
   "source": [
    "Exercise 2: Create markdown cell with title of the notebook\n",
    "# Data Science Tools and Ecosystem"
   ]
  },
  {
   "cell_type": "markdown",
   "id": "08d1967b-f0ba-4540-a76b-9a67c86ff4a8",
   "metadata": {},
   "source": [
    "Exercise 3 - Create a markdown cell for an introduction  \n",
    "In this notebook, Data Science Tools and Ecosystem are summarized."
   ]
  },
  {
   "cell_type": "markdown",
   "id": "9390fbd5-2ba2-46cf-95ed-6006b667291b",
   "metadata": {},
   "source": [
    "Exercise 10 - Insert a markdown cell to list Objectives\n",
    "**Objectives:**\n",
    "- List popular languages for Data Science\n",
    "- List popular languages for Data tools\n",
    "- List popular libraries"
   ]
  },
  {
   "cell_type": "markdown",
   "id": "515022ac-99be-4455-982d-ce2d9733d1a3",
   "metadata": {},
   "source": [
    "Exercise 4 - Create a markdown cell to list data science languages\n",
    "\n",
    "**Some of the popular languages that Data Scientists use are:**\n",
    "1. Python\n",
    "2. Java\n",
    "3. C++\n",
    "4. Scala\n",
    "5. Java Script"
   ]
  },
  {
   "cell_type": "markdown",
   "id": "040f63b2-beec-4a40-8ded-8e120c9fb5e3",
   "metadata": {},
   "source": [
    "Exercise 5 - Create a markdown cell to list data science libraries\n",
    "\n",
    "**Some of the commonly used libraries used by Data Scientists include:**\n",
    "1. Pandas\n",
    "2. Numpy\n",
    "3. Pytorch\n",
    "4. Matplotlib"
   ]
  },
  {
   "cell_type": "markdown",
   "id": "5533d2fb-3617-40fd-ae6a-7c23acccde32",
   "metadata": {},
   "source": [
    "Exercise 6 - Create a markdown cell with a table of Data Science tools\n",
    "\n",
    "| Data Science Tools |\n",
    "----------------------\n",
    "| Python |\n",
    "| R |\n",
    "| Visual studio Code | "
   ]
  },
  {
   "cell_type": "markdown",
   "id": "b49e8ed8-2dcd-4580-a0d1-e53d59697606",
   "metadata": {},
   "source": [
    "Exercise 7 - Create a markdown cell introducing arithmetic expression examples\n",
    "### Below are a few examples of evaluating arithmetic expressions in Python"
   ]
  },
  {
   "cell_type": "code",
   "execution_count": 1,
   "id": "ea9b48d3-8230-4c48-a67b-7d3ae2e58f9e",
   "metadata": {},
   "outputs": [
    {
     "data": {
      "text/plain": [
       "17"
      ]
     },
     "execution_count": 1,
     "metadata": {},
     "output_type": "execute_result"
    }
   ],
   "source": [
    "#Exercise 8 - Create a code cell to multiply and add numbers\n",
    "#This a simple arithmetic expression to mutiply then add integers\n",
    "(3*4)+5\n"
   ]
  },
  {
   "cell_type": "code",
   "execution_count": 7,
   "id": "a2ee1f6a-dfc6-493e-8573-d2d45ffc7c9d",
   "metadata": {},
   "outputs": [
    {
     "name": "stdout",
     "output_type": "stream",
     "text": [
      "3.3333333333333335\n"
     ]
    }
   ],
   "source": [
    "#Exercise 9 - Create a code cell to convert minutes to hours\n",
    "# This will convert 200 minutes to hours by diving by 60\n",
    "hours = 200/60\n",
    "print (hours)"
   ]
  },
  {
   "cell_type": "markdown",
   "id": "3da4c6a6-3565-42cf-a67b-361b22627d25",
   "metadata": {},
   "source": [
    "Exercise 11 - Create a markdown cell to indicate the Author's name\n",
    "## Author\n",
    "Python"
   ]
  },
  {
   "cell_type": "code",
   "execution_count": null,
   "id": "a82c9684-ff87-4c72-a138-63d7b2aba7a1",
   "metadata": {},
   "outputs": [],
   "source": []
  }
 ],
 "metadata": {
  "kernelspec": {
   "display_name": "Python [conda env:base] *",
   "language": "python",
   "name": "conda-base-py"
  },
  "language_info": {
   "codemirror_mode": {
    "name": "ipython",
    "version": 3
   },
   "file_extension": ".py",
   "mimetype": "text/x-python",
   "name": "python",
   "nbconvert_exporter": "python",
   "pygments_lexer": "ipython3",
   "version": "3.13.5"
  }
 },
 "nbformat": 4,
 "nbformat_minor": 5
}
